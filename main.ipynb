{
 "cells": [
  {
   "cell_type": "code",
   "execution_count": 4,
   "metadata": {},
   "outputs": [],
   "source": [
    "import yfinance as yf\n",
    "import pandas as pd\n"
   ]
  },
  {
   "cell_type": "code",
   "execution_count": 20,
   "metadata": {},
   "outputs": [
    {
     "name": "stdout",
     "output_type": "stream",
     "text": [
      "Index(['Open', 'High', 'Low', 'Close', 'Volume', 'Dividends', 'Stock Splits',\n",
      "       'Capital Gains'],\n",
      "      dtype='object')\n"
     ]
    }
   ],
   "source": [
    "\n",
    "stock = yf.Ticker(\"XEQT.TO\")\n",
    "\n",
    "# get all stock info\n",
    "stock.info\n",
    "\n",
    "# get historical market data\n",
    "hist = stock.history(period=\"1mo\")\n",
    "print(hist.columns)"
   ]
  },
  {
   "cell_type": "code",
   "execution_count": 21,
   "metadata": {},
   "outputs": [
    {
     "name": "stdout",
     "output_type": "stream",
     "text": [
      "{'currency': 'CAD', 'symbol': 'XEQT.TO', 'exchangeName': 'TOR', 'fullExchangeName': 'Toronto', 'instrumentType': 'ETF', 'firstTradeDate': 1565789400, 'regularMarketTime': 1725566369, 'hasPrePostMarketData': False, 'gmtoffset': -14400, 'timezone': 'EDT', 'exchangeTimezoneName': 'America/Toronto', 'regularMarketPrice': 31.185, 'fiftyTwoWeekHigh': 31.4, 'fiftyTwoWeekLow': 31.14, 'regularMarketDayHigh': 31.4, 'regularMarketDayLow': 31.14, 'regularMarketVolume': 186253, 'longName': 'iShares Core Equity ETF Portfolio', 'shortName': 'ISHARES CORE EQUITY ETF', 'chartPreviousClose': 30.66, 'priceHint': 2, 'currentTradingPeriod': {'pre': {'timezone': 'EDT', 'end': 1725543000, 'start': 1725537600, 'gmtoffset': -14400}, 'regular': {'timezone': 'EDT', 'end': 1725566400, 'start': 1725543000, 'gmtoffset': -14400}, 'post': {'timezone': 'EDT', 'end': 1725570000, 'start': 1725566400, 'gmtoffset': -14400}}, 'dataGranularity': '1d', 'range': '1mo', 'validRanges': ['1d', '5d', '1mo', '3mo', '6mo', '1y', '2y', '5y', '10y', 'ytd', 'max']}\n"
     ]
    }
   ],
   "source": [
    "\n",
    "# show meta information about the history (requires history() to be called first)\n",
    "print(stock.history_metadata)\n",
    "\n",
    "# # show actions (dividends, splits, capital gains)\n",
    "# stock.actions\n",
    "# stock.dividends\n",
    "# stock.splits\n",
    "# stock.capital_gains  # only for mutual funds & etfs\n",
    "\n",
    "# # show share count\n",
    "# stock.get_shares_full(start=\"2022-01-01\", end=None)\n",
    "\n",
    "# # show financials:\n",
    "# stock.calendar\n",
    "# stock.sec_filings\n",
    "# # - income statement\n",
    "# stock.income_stmt\n",
    "# stock.quarterly_income_stmt\n",
    "# # - balance sheet\n",
    "# stock.balance_sheet\n",
    "# stock.quarterly_balance_sheet\n",
    "# # - cash flow statement\n",
    "# stock.cashflow\n",
    "# stock.quarterly_cashflow\n",
    "# # see `Ticker.get_income_stmt()` for more options\n",
    "\n",
    "# # show holders\n",
    "# stock.major_holders\n",
    "# stock.institutional_holders\n",
    "# stock.mutualfund_holders\n",
    "# stock.insider_transactions\n",
    "# stock.insider_purchases\n",
    "# stock.insider_roster_holders\n",
    "\n",
    "# stock.sustainability\n",
    "\n",
    "# # show recommendations\n",
    "# stock.recommendations\n",
    "# stock.recommendations_summary\n",
    "# stock.upgrades_downgrades\n",
    "\n",
    "# # show analysts data\n",
    "# stock.analyst_price_targets\n",
    "# stock.earnings_estimate\n",
    "# stock.revenue_estimate\n",
    "# stock.earnings_history\n",
    "# stock.eps_trend\n",
    "# stock.eps_revisions\n",
    "# stock.growth_estimates\n",
    "\n",
    "# # Show future and historic earnings dates, returns at most next 4 quarters and last 8 quarters by default.\n",
    "# # Note: If more are needed use msft.get_earnings_dates(limit=XX) with increased limit argument.\n",
    "# stock.earnings_dates\n",
    "\n",
    "# # show ISIN code - *experimental*\n",
    "# # ISIN = International Securities Identification Number\n",
    "# stock.isin\n",
    "\n",
    "# # show options expirations\n",
    "# stock.options\n",
    "\n",
    "# # show news\n",
    "# stock.news\n",
    "\n",
    "# get option chain for specific expiration\n",
    "# opt = stock.option_chain('YYYY-MM-DD')\n",
    "# data available via: opt.calls, opt.puts"
   ]
  }
 ],
 "metadata": {
  "kernelspec": {
   "display_name": "venv",
   "language": "python",
   "name": "python3"
  },
  "language_info": {
   "codemirror_mode": {
    "name": "ipython",
    "version": 3
   },
   "file_extension": ".py",
   "mimetype": "text/x-python",
   "name": "python",
   "nbconvert_exporter": "python",
   "pygments_lexer": "ipython3",
   "version": "3.11.7"
  }
 },
 "nbformat": 4,
 "nbformat_minor": 2
}
