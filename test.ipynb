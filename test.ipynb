{
 "cells": [
  {
   "cell_type": "code",
   "execution_count": 8,
   "metadata": {},
   "outputs": [
    {
     "name": "stdout",
     "output_type": "stream",
     "text": [
      "{'uuid': 'ec73742b-3c65-373b-8957-1af791704b21', 'title': 'Apple still AI winner despite iPhone 16 reception: Analyst', 'publisher': 'Yahoo Finance Video', 'link': 'https://finance.yahoo.com/video/apple-still-ai-winner-despite-210713797.html', 'providerPublishTime': 1727471233, 'type': 'VIDEO', 'thumbnail': {'resolutions': [{'url': 'https://s.yimg.com/uu/api/res/1.2/5RK4uhTjF6EDtfpcbWbgMg--~B/aD0xODkzO3c9MzM2MzthcHBpZD15dGFjaHlvbg--/https://s.yimg.com/os/creatr-uploaded-images/2024-09/582253b0-7d13-11ef-bfff-fd41228acb0c', 'width': 3363, 'height': 1893, 'tag': 'original'}, {'url': 'https://s.yimg.com/uu/api/res/1.2/TOESKNyS_TYGmjIGxOMLBw--~B/Zmk9ZmlsbDtoPTE0MDtweW9mZj0wO3c9MTQwO2FwcGlkPXl0YWNoeW9u/https://s.yimg.com/os/creatr-uploaded-images/2024-09/582253b0-7d13-11ef-bfff-fd41228acb0c', 'width': 140, 'height': 140, 'tag': '140x140'}]}, 'relatedTickers': ['AAPL']}\n"
     ]
    }
   ],
   "source": [
    "import yfinance as yf\n",
    "ticker = 'AAPL'\n",
    "\n",
    "# get stock info\n",
    "stock = yf.Ticker(ticker)\n",
    "news = stock.news\n",
    "print(news[0])\n"
   ]
  }
 ],
 "metadata": {
  "kernelspec": {
   "display_name": "venv",
   "language": "python",
   "name": "python3"
  },
  "language_info": {
   "codemirror_mode": {
    "name": "ipython",
    "version": 3
   },
   "file_extension": ".py",
   "mimetype": "text/x-python",
   "name": "python",
   "nbconvert_exporter": "python",
   "pygments_lexer": "ipython3",
   "version": "3.11.7"
  }
 },
 "nbformat": 4,
 "nbformat_minor": 2
}
